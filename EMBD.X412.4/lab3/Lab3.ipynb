{
 "cells": [
  {
   "cell_type": "markdown",
   "metadata": {},
   "source": [
    "## Using Encryption with Internet of Things (OpenSSL)\n",
    "\n",
    "1. Use openssl to generate a public key:"
   ]
  },
  {
   "cell_type": "code",
   "execution_count": 4,
   "metadata": {
    "scrolled": true
   },
   "outputs": [
    {
     "name": "stderr",
     "output_type": "stream",
     "text": [
      "..........................+++\n",
      "..............+++\n",
      "writing RSA key\n"
     ]
    }
   ],
   "source": [
    "%%bash\n",
    "openssl genpkey -algorithm RSA -out private_key.pem -pkeyopt rsa_keygen_bits:2048\n",
    "openssl rsa -pubout -in private_key.pem -out public_key.pem"
   ]
  },
  {
   "cell_type": "markdown",
   "metadata": {},
   "source": [
    "NOTE: Copy & paste the output for Lab 3 submission"
   ]
  },
  {
   "cell_type": "code",
   "execution_count": 19,
   "metadata": {},
   "outputs": [
    {
     "name": "stdout",
     "output_type": "stream",
     "text": [
      "-----BEGIN PUBLIC KEY-----\r\n",
      "MIIBIjANBgkqhkiG9w0BAQEFAAOCAQ8AMIIBCgKCAQEAuBJ31M58PVnS3u0b1doZ\r\n",
      "0tglgFiGKpd8efRIVmGD1irdHHuutEOQASU+lK+5M2BZoI8/qNinsa4KNlzRUaJt\r\n",
      "Q54UbY31auA41I0W/aYZJtIXHPxZ5V4dbk5Ern51zL8WwKtHabveGDydryA0dQi0\r\n",
      "IBULHxycGE2cGiIGPUhsZ8GNbcuXfGCXqtsUbT3qKgRmFwwImvcb0VjXXex7tc04\r\n",
      "JJ550WO9As0xmR/VGZFqjfyYG+ZCJi8Ul+sldYgjKTBrikCZqtHuRdMsqHO6JThJ\r\n",
      "+RX3pRNedQy6Omo20XfooJX1koTxwverpzs4GcGDj9dVg+uDDn2TpgzZfCcw6xxa\r\n",
      "PQIDAQAB\r\n",
      "-----END PUBLIC KEY-----\r\n"
     ]
    }
   ],
   "source": [
    "!cat public_key.pem"
   ]
  },
  {
   "cell_type": "markdown",
   "metadata": {},
   "source": [
    "2. Use openssl to encrypt data\n",
    "\n",
    "cat iot-data.txt.enc \n",
    "U2FsdGVkX189ec2EHxaFUDsX/G4qiYaYE7ZwpCipU6E=\n"
   ]
  },
  {
   "cell_type": "code",
   "execution_count": 14,
   "metadata": {},
   "outputs": [],
   "source": [
    "%%bash\n",
    "echo \"Hello IoT\" > iot-data.txt\n",
    "openssl aes-256-cbc -a -salt -in iot-data.txt -out iot-data.txt.enc -pass pass:abc123"
   ]
  },
  {
   "cell_type": "markdown",
   "metadata": {},
   "source": [
    "NOTE: Copy & paste the output for Lab 3 submission"
   ]
  },
  {
   "cell_type": "code",
   "execution_count": 20,
   "metadata": {},
   "outputs": [
    {
     "name": "stdout",
     "output_type": "stream",
     "text": [
      "U2FsdGVkX1/3rbL3LKICmHjilRBOkaufIz4eEa/2l/4=\r\n"
     ]
    }
   ],
   "source": [
    "!cat iot-data.txt.enc"
   ]
  },
  {
   "cell_type": "markdown",
   "metadata": {},
   "source": [
    "3. Use openssl to decrypt data\n",
    "\n",
    "NOTE: Copy & paste the output for Lab 3 submission"
   ]
  },
  {
   "cell_type": "code",
   "execution_count": 21,
   "metadata": {},
   "outputs": [
    {
     "name": "stdout",
     "output_type": "stream",
     "text": [
      "Hello IoT\r\n"
     ]
    }
   ],
   "source": [
    "!openssl aes-256-cbc -d -a -salt -in iot-data.txt.enc -pass pass:abc123"
   ]
  },
  {
   "cell_type": "code",
   "execution_count": 22,
   "metadata": {},
   "outputs": [
    {
     "name": "stdout",
     "output_type": "stream",
     "text": [
      "Hello IoT\n"
     ]
    }
   ],
   "source": [
    "%%bash\n",
    "echo \"abc123\" > passwdfile\n",
    "openssl aes-256-cbc -d -a -salt -in iot-data.txt.enc -pass pass:abc123"
   ]
  },
  {
   "cell_type": "code",
   "execution_count": 23,
   "metadata": {},
   "outputs": [
    {
     "name": "stdout",
     "output_type": "stream",
     "text": [
      "iot-data.txt\t  iot-data.txt.enc.golden  passwdfile\t    public_key.pem\r\n",
      "iot-data.txt.enc  Lab3.ipynb\t\t   private_key.pem\r\n"
     ]
    }
   ],
   "source": [
    "4. Download generated IoT simulated data \"lab3-iot-gendata.txt.enc\" and decrypt it:\n",
    "    \n",
    "    $ wget https://raw.githubusercontent.com/hinkmond/iot-big-data-processing-and-analytics/master/lab3-iot-gendata.txt.enc\n",
    "$ echo \"abc123\" > passwdfile\n",
    "$ openssl aes-256-cbc -d -a -salt -in lab3-iot-gendata.txt.enc -pass file:./passwdfile > lab3-iot-gendata.txt"
   ]
  },
  {
   "cell_type": "code",
   "execution_count": 24,
   "metadata": {},
   "outputs": [
    {
     "name": "stderr",
     "output_type": "stream",
     "text": [
      "--2019-04-20 05:57:01--  https://raw.githubusercontent.com/hinkmond/iot-big-data-processing-and-analytics/master/lab3-iot-gendata.txt.enc\n",
      "Resolving raw.githubusercontent.com (raw.githubusercontent.com)... 151.101.52.133\n",
      "Connecting to raw.githubusercontent.com (raw.githubusercontent.com)|151.101.52.133|:443... connected.\n",
      "HTTP request sent, awaiting response... 200 OK\n",
      "Length: 585 [text/plain]\n",
      "Saving to: ‘lab3-iot-gendata.txt.enc’\n",
      "\n",
      "     0K                                                       100%  105M=0s\n",
      "\n",
      "2019-04-20 05:57:01 (105 MB/s) - ‘lab3-iot-gendata.txt.enc’ saved [585/585]\n",
      "\n"
     ]
    }
   ],
   "source": [
    "%%bash\n",
    "wget https://raw.githubusercontent.com/hinkmond/iot-big-data-processing-and-analytics/master/lab3-iot-gendata.txt.enc\n",
    "echo \"abc123\" > passwdfile\n",
    "openssl aes-256-cbc -d -a -salt -in lab3-iot-gendata.txt.enc -pass file:./passwdfile > lab3-iot-gendata.txt"
   ]
  },
  {
   "cell_type": "markdown",
   "metadata": {},
   "source": [
    "NOTE: Copy & paste the output for Lab 3 submission"
   ]
  },
  {
   "cell_type": "code",
   "execution_count": 25,
   "metadata": {},
   "outputs": [
    {
     "name": "stdout",
     "output_type": "stream",
     "text": [
      "77  84  76  68  81  82  103  85  73  82  82  63  77  79  86  101  62  87  74  102  76  100  104  74  62  88  60  65  98  81  82  92  79  90  81  78  98  85  94  93  65  77  96  95  64  79  71  70  90  63  78  64  103  61  92  82  90  61  96  65  74  90  96  73  89  96  90  104  73  89  82  89  97  70  64  65  86  85  81  77  85  75  95  96  75  82  83  91  96  76  83  73  71  90  99  67  99  71  81  77  \r\n"
     ]
    }
   ],
   "source": [
    "!cat lab3-iot-gendata.txt"
   ]
  },
  {
   "cell_type": "markdown",
   "metadata": {},
   "source": [
    "5. Refer to example in Lab 2 to use Spark pyspark to count number of elements (\"Word Count\") in above decrypted file (NOTE: You need to figure out to count number of elements that are space delimited, not on separate lines)"
   ]
  },
  {
   "cell_type": "code",
   "execution_count": null,
   "metadata": {},
   "outputs": [],
   "source": [
    "lab3IotGenDataRdd = sc.textFile(\"lab3-iot-gendata.txt\")\n",
    "lab3IotGenDataRdd \\\n",
    ".flatMap(lambda s : s.split()).collect()\n",
    "\n",
    "#.map(lambda s : s.strip()) \\\n",
    "#lab3IotGenDataRdd.collect()"
   ]
  },
  {
   "cell_type": "code",
   "execution_count": null,
   "metadata": {},
   "outputs": [],
   "source": []
  },
  {
   "cell_type": "code",
   "execution_count": null,
   "metadata": {},
   "outputs": [],
   "source": []
  },
  {
   "cell_type": "code",
   "execution_count": null,
   "metadata": {},
   "outputs": [],
   "source": []
  },
  {
   "cell_type": "code",
   "execution_count": null,
   "metadata": {},
   "outputs": [],
   "source": []
  }
 ],
 "metadata": {
  "kernelspec": {
   "display_name": "Python 3",
   "language": "python",
   "name": "python3"
  },
  "language_info": {
   "codemirror_mode": {
    "name": "ipython",
    "version": 3
   },
   "file_extension": ".py",
   "mimetype": "text/x-python",
   "name": "python",
   "nbconvert_exporter": "python",
   "pygments_lexer": "ipython3",
   "version": "3.6.6"
  }
 },
 "nbformat": 4,
 "nbformat_minor": 2
}
