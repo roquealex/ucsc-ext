{
 "cells": [
  {
   "cell_type": "markdown",
   "metadata": {},
   "source": [
    "## Using Encryption with Internet of Things (OpenSSL)\n",
    "\n",
    "1. Use openssl to generate a public key:"
   ]
  },
  {
   "cell_type": "code",
   "execution_count": null,
   "metadata": {
    "scrolled": true
   },
   "outputs": [],
   "source": [
    "%%bash\n",
    "openssl genpkey -algorithm RSA -out private_key.pem -pkeyopt rsa_keygen_bits:2048\n",
    "openssl rsa -pubout -in private_key.pem -out public_key.pem"
   ]
  },
  {
   "cell_type": "markdown",
   "metadata": {},
   "source": [
    "NOTE: Copy & paste the output for Lab 3 submission"
   ]
  },
  {
   "cell_type": "code",
   "execution_count": null,
   "metadata": {},
   "outputs": [],
   "source": [
    "!cat public_key.pem"
   ]
  },
  {
   "cell_type": "markdown",
   "metadata": {},
   "source": [
    "2. Use openssl to encrypt data"
   ]
  },
  {
   "cell_type": "code",
   "execution_count": null,
   "metadata": {},
   "outputs": [],
   "source": [
    "%%bash\n",
    "echo \"Hello IoT\" > iot-data.txt\n",
    "openssl aes-256-cbc -a -salt -in iot-data.txt -out iot-data.txt.enc -pass pass:abc123"
   ]
  },
  {
   "cell_type": "markdown",
   "metadata": {},
   "source": [
    "NOTE: Copy & paste the output for Lab 3 submission"
   ]
  },
  {
   "cell_type": "code",
   "execution_count": null,
   "metadata": {},
   "outputs": [],
   "source": [
    "!cat iot-data.txt.enc"
   ]
  },
  {
   "cell_type": "markdown",
   "metadata": {},
   "source": [
    "3. Use openssl to decrypt data\n",
    "\n",
    "NOTE: Copy & paste the output for Lab 3 submission"
   ]
  },
  {
   "cell_type": "code",
   "execution_count": null,
   "metadata": {},
   "outputs": [],
   "source": [
    "!openssl aes-256-cbc -d -a -salt -in iot-data.txt.enc -pass pass:abc123"
   ]
  },
  {
   "cell_type": "code",
   "execution_count": null,
   "metadata": {},
   "outputs": [],
   "source": [
    "%%bash\n",
    "echo \"abc123\" > passwdfile\n",
    "openssl aes-256-cbc -d -a -salt -in iot-data.txt.enc -pass pass:abc123"
   ]
  },
  {
   "cell_type": "markdown",
   "metadata": {},
   "source": [
    "4. Download generated IoT simulated data \"lab3-iot-gendata.txt.enc\" and decrypt it:"
   ]
  },
  {
   "cell_type": "code",
   "execution_count": null,
   "metadata": {},
   "outputs": [],
   "source": [
    "%%bash\n",
    "wget https://raw.githubusercontent.com/hinkmond/iot-big-data-processing-and-analytics/master/lab3-iot-gendata.txt.enc\n",
    "echo \"abc123\" > passwdfile\n",
    "openssl aes-256-cbc -d -a -salt -in lab3-iot-gendata.txt.enc -pass file:./passwdfile > lab3-iot-gendata.txt"
   ]
  },
  {
   "cell_type": "markdown",
   "metadata": {},
   "source": [
    "NOTE: Copy & paste the output for Lab 3 submission"
   ]
  },
  {
   "cell_type": "code",
   "execution_count": null,
   "metadata": {},
   "outputs": [],
   "source": [
    "!cat lab3-iot-gendata.txt"
   ]
  },
  {
   "cell_type": "markdown",
   "metadata": {},
   "source": [
    "5. Refer to example in Lab 2 to use Spark pyspark to count number of elements (\"Word Count\") in above decrypted file (NOTE: You need to figure out to count number of elements that are space delimited, not on separate lines)"
   ]
  },
  {
   "cell_type": "code",
   "execution_count": null,
   "metadata": {},
   "outputs": [],
   "source": [
    "lab3IotGenDataRdd = sc.textFile(\"lab3-iot-gendata.txt\")\n",
    "# Note different behavior when using split() and split(' ')\n",
    "lab3IotGenDataRdd.flatMap(lambda s : s.split()).count()"
   ]
  },
  {
   "cell_type": "markdown",
   "metadata": {},
   "source": [
    "Alternative spark sql"
   ]
  },
  {
   "cell_type": "code",
   "execution_count": null,
   "metadata": {},
   "outputs": [],
   "source": [
    "from pyspark.sql import Row\n",
    "from pyspark.sql.functions import *\n",
    "lab3IotGenDataDF = lab3IotGenDataRdd.map(lambda x : Row(data=x)).toDF()\n",
    "\n",
    "lab3IotGenDataDF.select(explode(split(trim(col(\"data\")),'\\\\s+'))).count()"
   ]
  }
 ],
 "metadata": {
  "kernelspec": {
   "display_name": "Python 2",
   "language": "python",
   "name": "python2"
  },
  "language_info": {
   "codemirror_mode": {
    "name": "ipython",
    "version": 2
   },
   "file_extension": ".py",
   "mimetype": "text/x-python",
   "name": "python",
   "nbconvert_exporter": "python",
   "pygments_lexer": "ipython2",
   "version": "2.7.14"
  }
 },
 "nbformat": 4,
 "nbformat_minor": 2
}
